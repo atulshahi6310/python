{
  "nbformat": 4,
  "nbformat_minor": 0,
  "metadata": {
    "colab": {
      "provenance": []
    },
    "kernelspec": {
      "name": "python3",
      "display_name": "Python 3"
    },
    "language_info": {
      "name": "python"
    }
  },
  "cells": [
    {
      "cell_type": "markdown",
      "source": [
        "# Json module in python"
      ],
      "metadata": {
        "id": "qBAOGgHHUN_1"
      }
    },
    {
      "cell_type": "code",
      "source": [
        "import json"
      ],
      "metadata": {
        "id": "EIb0GYRFURm2"
      },
      "execution_count": null,
      "outputs": []
    },
    {
      "cell_type": "markdown",
      "source": [
        "#Dumping :- converting  python object to json"
      ],
      "metadata": {
        "id": "iKnF9WyOUcvH"
      }
    },
    {
      "cell_type": "code",
      "source": [
        "student_data = {\n",
        "    \"name\" : \"atul kumar shahi \",\n",
        "    \"roll number \" : \"62\" ,\n",
        "}"
      ],
      "metadata": {
        "id": "NqnLSQGZUyw1"
      },
      "execution_count": null,
      "outputs": []
    },
    {
      "cell_type": "code",
      "source": [
        "json_object = json.dumps(student_data)"
      ],
      "metadata": {
        "id": "Joz4Ak3MU4Ye"
      },
      "execution_count": null,
      "outputs": []
    },
    {
      "cell_type": "code",
      "source": [
        "print(json_object)"
      ],
      "metadata": {
        "colab": {
          "base_uri": "https://localhost:8080/"
        },
        "id": "zoQvruBmVu4X",
        "outputId": "5fcd6c15-439f-4466-fd57-3bb1974bb00f"
      },
      "execution_count": null,
      "outputs": [
        {
          "output_type": "stream",
          "name": "stdout",
          "text": [
            "{\"name\": \"atul kumar shahi \", \"roll number \": \"62\"}\n"
          ]
        }
      ]
    },
    {
      "cell_type": "code",
      "source": [
        "list_food = [\"pizza\",\"burger\",\"hotdog\"]"
      ],
      "metadata": {
        "id": "CjmCKtSLVw0b"
      },
      "execution_count": null,
      "outputs": []
    },
    {
      "cell_type": "code",
      "source": [
        "convert = json.dumps(list_food)"
      ],
      "metadata": {
        "id": "l5xVB4JNV5Md"
      },
      "execution_count": null,
      "outputs": []
    },
    {
      "cell_type": "code",
      "source": [
        "print(convert)"
      ],
      "metadata": {
        "colab": {
          "base_uri": "https://localhost:8080/"
        },
        "id": "IQj8FSUKV7yy",
        "outputId": "9cfaa1d1-cd8f-417c-a876-791487b05cfe"
      },
      "execution_count": null,
      "outputs": [
        {
          "output_type": "stream",
          "name": "stdout",
          "text": [
            "[\"pizza\", \"burger\", \"hotdog\"]\n"
          ]
        }
      ]
    },
    {
      "cell_type": "code",
      "source": [
        "import json\n",
        "\n",
        "\n",
        "food_dict = {\"pizza\": 160, \"burger\": 80, \"hotdog\": 5000}\n",
        "\n",
        "\n",
        "convert = json.dumps(food_dict)\n",
        "\n",
        "\n",
        "print(convert)"
      ],
      "metadata": {
        "colab": {
          "base_uri": "https://localhost:8080/"
        },
        "id": "QSGg1MfOV94t",
        "outputId": "439a58a1-873e-41d1-85f6-4aa9f67b62b1"
      },
      "execution_count": null,
      "outputs": [
        {
          "output_type": "stream",
          "name": "stdout",
          "text": [
            "{\"pizza\": 160, \"burger\": 80, \"hotdog\": 5000}\n"
          ]
        }
      ]
    },
    {
      "cell_type": "markdown",
      "source": [
        "# this given line of code below help to add jason module in a file"
      ],
      "metadata": {
        "id": "bA7xYfP1XlEh"
      }
    },
    {
      "cell_type": "code",
      "source": [
        "with open(\"food.json\",\"w\") as file:\n",
        "    json.dump(food_dict,file)"
      ],
      "metadata": {
        "id": "537D2rMPWLuY"
      },
      "execution_count": null,
      "outputs": []
    },
    {
      "cell_type": "markdown",
      "source": [
        "# converting jason to python objects (decoding)\n"
      ],
      "metadata": {
        "id": "L2Qm6ZXoX7Q-"
      }
    },
    {
      "cell_type": "code",
      "source": [
        "json_object = '{\"name\": \"atul kumar shahi \", \"roll number \": \"62\"}'\n",
        "python_object = json.loads(json_object)\n",
        "print(python_object)"
      ],
      "metadata": {
        "colab": {
          "base_uri": "https://localhost:8080/"
        },
        "id": "xHhVDXp-YE-3",
        "outputId": "c85fba05-0e8e-465d-ce40-e1aaad91fa17"
      },
      "execution_count": null,
      "outputs": [
        {
          "output_type": "stream",
          "name": "stdout",
          "text": [
            "{'name': 'atul kumar shahi ', 'roll number ': '62'}\n"
          ]
        }
      ]
    },
    {
      "cell_type": "code",
      "source": [
        "with open(\"food.json\",\"r\") as file:\n",
        "    data = json.load(file)\n",
        "    print(data)"
      ],
      "metadata": {
        "colab": {
          "base_uri": "https://localhost:8080/"
        },
        "id": "ntNi1ZW2YN_3",
        "outputId": "060d5443-da12-48ae-e618-e7e862ce0471"
      },
      "execution_count": null,
      "outputs": [
        {
          "output_type": "stream",
          "name": "stdout",
          "text": [
            "{'pizza': 160, 'burger': 80, 'hotdog': 5000}\n"
          ]
        }
      ]
    },
    {
      "cell_type": "code",
      "source": [
        "print(data)"
      ],
      "metadata": {
        "colab": {
          "base_uri": "https://localhost:8080/"
        },
        "id": "oadAyWKbYg8l",
        "outputId": "d2830e51-0d77-4b9d-9088-f0691031091d"
      },
      "execution_count": null,
      "outputs": [
        {
          "output_type": "stream",
          "name": "stdout",
          "text": [
            "{'pizza': 160, 'burger': 80, 'hotdog': 5000}\n"
          ]
        }
      ]
    },
    {
      "cell_type": "markdown",
      "source": [
        "# formating jason module"
      ],
      "metadata": {
        "id": "xiCS71ddaUHc"
      }
    },
    {
      "cell_type": "code",
      "source": [
        "formate_jason =  json.dumps(food_dict,indent=4)\n",
        "print(formate_jason)"
      ],
      "metadata": {
        "colab": {
          "base_uri": "https://localhost:8080/"
        },
        "id": "SdVGEHLjaXTx",
        "outputId": "c4f8c435-1ee7-4d90-91bc-b91801abac03"
      },
      "execution_count": null,
      "outputs": [
        {
          "output_type": "stream",
          "name": "stdout",
          "text": [
            "{\n",
            "    \"pizza\": 160,\n",
            "    \"burger\": 80,\n",
            "    \"hotdog\": 5000\n",
            "}\n"
          ]
        }
      ]
    },
    {
      "cell_type": "code",
      "source": [],
      "metadata": {
        "id": "CYNKTxuccG6x"
      },
      "execution_count": null,
      "outputs": []
    }
  ]
}