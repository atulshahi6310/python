{
  "nbformat": 4,
  "nbformat_minor": 0,
  "metadata": {
    "colab": {
      "provenance": []
    },
    "kernelspec": {
      "name": "python3",
      "display_name": "Python 3"
    },
    "language_info": {
      "name": "python"
    }
  },
  "cells": [
    {
      "cell_type": "markdown",
      "source": [
        "# File handling in python"
      ],
      "metadata": {
        "id": "r4UKoNgI0ScN"
      }
    },
    {
      "cell_type": "code",
      "source": [
        "file_obj = open(\"sample.txt\",\"w\")"
      ],
      "metadata": {
        "id": "j-8XCk150XI1"
      },
      "execution_count": null,
      "outputs": []
    },
    {
      "cell_type": "code",
      "source": [
        "file_obj.writelines([\"hey a am atul kumar shahi\\n\", \"This is the second line\\n\"])"
      ],
      "metadata": {
        "id": "Zrtho0AV0gF8"
      },
      "execution_count": null,
      "outputs": []
    },
    {
      "cell_type": "code",
      "source": [
        "print(file_obj)\n"
      ],
      "metadata": {
        "colab": {
          "base_uri": "https://localhost:8080/"
        },
        "id": "M83-4Bsn0rl_",
        "outputId": "c5c9daa7-e6ba-4cba-90ba-e961aea8547d"
      },
      "execution_count": null,
      "outputs": [
        {
          "output_type": "stream",
          "name": "stdout",
          "text": [
            "<_io.TextIOWrapper name='sample.txt' mode='w' encoding='utf-8'>\n"
          ]
        }
      ]
    },
    {
      "cell_type": "code",
      "source": [
        "abc  = open(\"sample.txt\",\"r\")\n",
        "\n"
      ],
      "metadata": {
        "id": "3W-GazZW1_2e"
      },
      "execution_count": null,
      "outputs": []
    },
    {
      "cell_type": "code",
      "source": [
        "cde = open(\"sampl.txt\",\"a\")"
      ],
      "metadata": {
        "id": "7MnY3kFy2F8U"
      },
      "execution_count": null,
      "outputs": []
    },
    {
      "cell_type": "code",
      "source": [
        "cde.writelines([\" kumar shahi\\n\", \"This is the second line\\n\"])"
      ],
      "metadata": {
        "id": "KABXNFMy2UHG"
      },
      "execution_count": null,
      "outputs": []
    },
    {
      "cell_type": "code",
      "source": [
        "file_obj.close()"
      ],
      "metadata": {
        "id": "o8OeOb4x2Wh7"
      },
      "execution_count": null,
      "outputs": []
    },
    {
      "cell_type": "code",
      "source": [
        "abc.close()"
      ],
      "metadata": {
        "id": "B7QbsJYy2tGc"
      },
      "execution_count": null,
      "outputs": []
    },
    {
      "cell_type": "code",
      "source": [
        "cde.close()"
      ],
      "metadata": {
        "id": "-UZxQv302v5r"
      },
      "execution_count": null,
      "outputs": []
    },
    {
      "cell_type": "code",
      "source": [
        "try:\n",
        "  file_obj = open(\"sample.txt\",\"w\")\n",
        "  file_obj.writelines([\"hey a am atul kumar shahi\\n\", \"This is the second line\\n\",\"he is a senior softwer developer \"])\n",
        "  print(\"YOU WRITE THIS \")\n",
        "  print(file_obj)\n",
        "except Exception as e:\n",
        "  print(e.massage)\n",
        "finally:\n",
        "   print(\"hey you are in sample.txt\")"
      ],
      "metadata": {
        "colab": {
          "base_uri": "https://localhost:8080/"
        },
        "id": "6Za6lqMa2zNn",
        "outputId": "f272c9bf-2f12-44e2-f677-8c5022d80f09"
      },
      "execution_count": null,
      "outputs": [
        {
          "output_type": "stream",
          "name": "stdout",
          "text": [
            "YOU WRITE THIS \n",
            "<_io.TextIOWrapper name='sample.txt' mode='w' encoding='utf-8'>\n",
            "hey you are in sample.txt\n"
          ]
        }
      ]
    },
    {
      "cell_type": "code",
      "source": [],
      "metadata": {
        "id": "aacwGtoO3Da3"
      },
      "execution_count": null,
      "outputs": []
    },
    {
      "cell_type": "markdown",
      "source": [
        "#useing with statement to handle file in python"
      ],
      "metadata": {
        "id": "laRWicI_3gX0"
      }
    },
    {
      "cell_type": "code",
      "source": [
        "try:\n",
        "  with open (\"sample.txt\" ,\"r\") as file:\n",
        "    content = file.read()\n",
        "    print(content)\n",
        "# Corrected line below\n",
        "except Exception as e:\n",
        "  print(e)\n",
        "finally:\n",
        "  print(\"hey you are in sample.txt \")\n",
        "\n"
      ],
      "metadata": {
        "colab": {
          "base_uri": "https://localhost:8080/"
        },
        "id": "WWjh7Zky3moI",
        "outputId": "7efd14c2-3946-492c-95a2-1e83a0371765"
      },
      "execution_count": null,
      "outputs": [
        {
          "output_type": "stream",
          "name": "stdout",
          "text": [
            "hey a am atul kumar shahi\n",
            "This is the second line\n",
            "he is a senior softwer developer \n",
            "hey you are in sample.txt\n"
          ]
        }
      ]
    },
    {
      "cell_type": "code",
      "source": [
        "with open(\"sampl.txt\",\"a\") as file:\n",
        "  try:\n",
        "    content = file.append(\"hey i got a job in open ai as  ceo \")\n",
        "    print(content)\n",
        "  except Exception as e:\n",
        "\n",
        "      print(f\"An error occurred: {e}\")\n",
        "  finally:\n",
        "      print(\"hey you are in sample.txt \")"
      ],
      "metadata": {
        "colab": {
          "base_uri": "https://localhost:8080/"
        },
        "id": "YanALk5x4dlo",
        "outputId": "c484e0e0-5195-4129-c261-0a1efad297d4"
      },
      "execution_count": null,
      "outputs": [
        {
          "output_type": "stream",
          "name": "stdout",
          "text": [
            "An error occurred: '_io.TextIOWrapper' object has no attribute 'append'\n",
            "hey you are in sample.txt \n"
          ]
        }
      ]
    },
    {
      "cell_type": "code",
      "source": [
        "with open(\"sampl.txt\",\"a\") as file:\n",
        "  try:\n",
        "    content = file.writelines(\"hey i got a job in open ai as  ceo \")\n",
        "    print(content)\n",
        "  except Exception as e:\n",
        "\n",
        "      print(f\"An error occurred: {e}\")\n",
        "  finally:\n",
        "      print(\"hey you are in sample.txt \")"
      ],
      "metadata": {
        "colab": {
          "base_uri": "https://localhost:8080/"
        },
        "id": "JICDGYrW5qLq",
        "outputId": "6e666ee3-26f6-4cb2-8d67-775836db8863"
      },
      "execution_count": null,
      "outputs": [
        {
          "output_type": "stream",
          "name": "stdout",
          "text": [
            "None\n",
            "hey you are in sample.txt \n"
          ]
        }
      ]
    },
    {
      "cell_type": "code",
      "source": [
        "import os\n",
        "if os.path.exists(\"sampl.txt\"):\n",
        "  with open(\"sampl.txt\",\"a\") as file:\n",
        "    try:\n",
        "      content = file.append(\"hey i got a job in open ai as  ceo \")\n",
        "      print(content)\n",
        "    except Exception as e:\n",
        "\n",
        "      print(f\"An error occurred: {e}\")\n",
        "    finally:\n",
        "      print(\"hey you are in sample.txt \")\n",
        "else :\n",
        "   print(\"this file not exits\")"
      ],
      "metadata": {
        "colab": {
          "base_uri": "https://localhost:8080/"
        },
        "id": "_1Y4t2vJ6nt2",
        "outputId": "5b0de35a-7869-4c1d-c44f-0c2250890dee"
      },
      "execution_count": null,
      "outputs": [
        {
          "output_type": "stream",
          "name": "stdout",
          "text": [
            "An error occurred: '_io.TextIOWrapper' object has no attribute 'append'\n",
            "hey you are in sample.txt \n"
          ]
        }
      ]
    },
    {
      "cell_type": "code",
      "source": [],
      "metadata": {
        "id": "r687Q68s7Hfg"
      },
      "execution_count": null,
      "outputs": []
    }
  ]
}