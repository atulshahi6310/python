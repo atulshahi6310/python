{
  "nbformat": 4,
  "nbformat_minor": 0,
  "metadata": {
    "colab": {
      "provenance": []
    },
    "kernelspec": {
      "name": "python3",
      "display_name": "Python 3"
    },
    "language_info": {
      "name": "python"
    }
  },
  "cells": [
    {
      "cell_type": "code",
      "execution_count": 3,
      "metadata": {
        "colab": {
          "base_uri": "https://localhost:8080/"
        },
        "id": "X2Rf_GjUjvKe",
        "outputId": "cc5eff1e-c518-44f1-ec11-cb16691e6420"
      },
      "outputs": [
        {
          "output_type": "stream",
          "name": "stdout",
          "text": [
            "['HELLOW']\n"
          ]
        }
      ],
      "source": [
        "words = [ \"hellow\"]\n",
        "upper_words = [word.upper() for word in words]\n",
        "print(upper_words)"
      ]
    },
    {
      "cell_type": "markdown",
      "source": [
        "#lamda function"
      ],
      "metadata": {
        "id": "eX9oO80VkKVb"
      }
    },
    {
      "cell_type": "code",
      "source": [
        "sum = lambda a:a**2\n",
        "print(sum(80))"
      ],
      "metadata": {
        "colab": {
          "base_uri": "https://localhost:8080/"
        },
        "id": "wjq69oB9j5jE",
        "outputId": "049fe15e-599e-4833-9115-50db246b664c"
      },
      "execution_count": 6,
      "outputs": [
        {
          "output_type": "stream",
          "name": "stdout",
          "text": [
            "6400\n"
          ]
        }
      ]
    },
    {
      "cell_type": "code",
      "source": [
        "find_odd = lambda x : \"even\" if x%2 == 0 else \"odd\""
      ],
      "metadata": {
        "id": "GeXUyX9ftafy"
      },
      "execution_count": 8,
      "outputs": []
    },
    {
      "cell_type": "code",
      "source": [
        "print(find_odd(9))"
      ],
      "metadata": {
        "colab": {
          "base_uri": "https://localhost:8080/"
        },
        "id": "4gOLERWFt_ME",
        "outputId": "b6ee3054-a981-4273-f16b-05a3b078ff9c"
      },
      "execution_count": 10,
      "outputs": [
        {
          "output_type": "stream",
          "name": "stdout",
          "text": [
            "odd\n"
          ]
        }
      ]
    },
    {
      "cell_type": "code",
      "source": [],
      "metadata": {
        "id": "fRarYcW-uJJC"
      },
      "execution_count": null,
      "outputs": []
    }
  ]
}