{
  "nbformat": 4,
  "nbformat_minor": 0,
  "metadata": {
    "colab": {
      "provenance": []
    },
    "kernelspec": {
      "name": "python3",
      "display_name": "Python 3"
    },
    "language_info": {
      "name": "python"
    }
  },
  "cells": [
    {
      "cell_type": "markdown",
      "source": [
        " # Python day 1 :)\n"
      ],
      "metadata": {
        "id": "qI-F7OX97Fsi"
      }
    },
    {
      "cell_type": "code",
      "execution_count": 1,
      "metadata": {
        "colab": {
          "base_uri": "https://localhost:8080/"
        },
        "id": "INXD84-d7Avl",
        "outputId": "a904750c-519c-4b2d-a946-7f8aa89c432d"
      },
      "outputs": [
        {
          "output_type": "stream",
          "name": "stdout",
          "text": [
            "hellow wrld  this is my first python program \n"
          ]
        }
      ],
      "source": [
        "print(\"hellow wrld  this is my first python program \")\n"
      ]
    },
    {
      "cell_type": "code",
      "source": [
        "a = 10\n",
        "b = 20\n",
        "a+b"
      ],
      "metadata": {
        "colab": {
          "base_uri": "https://localhost:8080/"
        },
        "id": "t2PKnF2_7nCz",
        "outputId": "0cf8dbfe-5f1c-4c76-8749-49a36853db8e"
      },
      "execution_count": 2,
      "outputs": [
        {
          "output_type": "execute_result",
          "data": {
            "text/plain": [
              "30"
            ]
          },
          "metadata": {},
          "execution_count": 2
        }
      ]
    },
    {
      "cell_type": "code",
      "source": [
        "a = 10.73474"
      ],
      "metadata": {
        "id": "Io-WUD527xMa"
      },
      "execution_count": 4,
      "outputs": []
    },
    {
      "cell_type": "code",
      "source": [
        "b = 30"
      ],
      "metadata": {
        "id": "9HnwSBba71Q8"
      },
      "execution_count": 5,
      "outputs": []
    },
    {
      "cell_type": "code",
      "source": [
        "a+b"
      ],
      "metadata": {
        "colab": {
          "base_uri": "https://localhost:8080/"
        },
        "id": "J_NrmirL72mm",
        "outputId": "69423cd0-26a1-4e17-bc05-acd07c6e128b"
      },
      "execution_count": 7,
      "outputs": [
        {
          "output_type": "execute_result",
          "data": {
            "text/plain": [
              "40.73474"
            ]
          },
          "metadata": {},
          "execution_count": 7
        }
      ]
    },
    {
      "cell_type": "code",
      "source": [
        "name = \"atul kumar shahi  \"\n"
      ],
      "metadata": {
        "id": "klVsHZtb74fo"
      },
      "execution_count": 11,
      "outputs": []
    },
    {
      "cell_type": "code",
      "source": [
        "name * b"
      ],
      "metadata": {
        "colab": {
          "base_uri": "https://localhost:8080/",
          "height": 88
        },
        "id": "_wCxvuvo7_At",
        "outputId": "e3b2dd1d-821c-43bd-c6ec-aed48fd148b0"
      },
      "execution_count": 12,
      "outputs": [
        {
          "output_type": "execute_result",
          "data": {
            "text/plain": [
              "'atul kumar shahi \\n atul kumar shahi \\n atul kumar shahi \\n atul kumar shahi \\n atul kumar shahi \\n atul kumar shahi \\n atul kumar shahi \\n atul kumar shahi \\n atul kumar shahi \\n atul kumar shahi \\n atul kumar shahi \\n atul kumar shahi \\n atul kumar shahi \\n atul kumar shahi \\n atul kumar shahi \\n atul kumar shahi \\n atul kumar shahi \\n atul kumar shahi \\n atul kumar shahi \\n atul kumar shahi \\n atul kumar shahi \\n atul kumar shahi \\n atul kumar shahi \\n atul kumar shahi \\n atul kumar shahi \\n atul kumar shahi \\n atul kumar shahi \\n atul kumar shahi \\n atul kumar shahi \\n atul kumar shahi \\n '"
            ],
            "application/vnd.google.colaboratory.intrinsic+json": {
              "type": "string"
            }
          },
          "metadata": {},
          "execution_count": 12
        }
      ]
    },
    {
      "cell_type": "markdown",
      "source": [
        "#this is list  python"
      ],
      "metadata": {
        "id": "P3lyz6ec8is3"
      }
    },
    {
      "cell_type": "code",
      "source": [
        "roll_numbers =  [1,2,3,4,5,5,7,8,8,4,5,54,54,4,4,4,4,87,8,4]"
      ],
      "metadata": {
        "id": "uSWJqmRE8CAB"
      },
      "execution_count": 14,
      "outputs": []
    },
    {
      "cell_type": "markdown",
      "source": [
        "# this is a tuple in python\n"
      ],
      "metadata": {
        "id": "4fsgauq88qfm"
      }
    },
    {
      "cell_type": "code",
      "source": [
        "name = (1,2,3,4,5,74,5,4,5,8)"
      ],
      "metadata": {
        "id": "JphZCqEa8eE6"
      },
      "execution_count": 15,
      "outputs": []
    },
    {
      "cell_type": "code",
      "source": [],
      "metadata": {
        "id": "JLA12g5l86hP"
      },
      "execution_count": null,
      "outputs": []
    },
    {
      "cell_type": "markdown",
      "source": [
        "# this is a set in python"
      ],
      "metadata": {
        "id": "muSr_AN189oB"
      }
    },
    {
      "cell_type": "code",
      "source": [
        "name = {\"atul \" , \" aman \" , \"rahul \",\"ode\" , \"shahi \" , \"boat\"}"
      ],
      "metadata": {
        "id": "-ne-kdL39FdE"
      },
      "execution_count": 16,
      "outputs": []
    },
    {
      "cell_type": "code",
      "source": [],
      "metadata": {
        "id": "50BsjExT9Vpj"
      },
      "execution_count": null,
      "outputs": []
    },
    {
      "cell_type": "markdown",
      "source": [
        "# this is  a dictonary in python"
      ],
      "metadata": {
        "id": "7Wt4n59I9XAi"
      }
    },
    {
      "cell_type": "code",
      "source": [
        "student = {\n",
        "    \"name\" : \"atulkumar shahi  \"\n",
        "    , \"class\" : \"aiml\"\n",
        "}"
      ],
      "metadata": {
        "id": "tn94JOPk9dfB"
      },
      "execution_count": 17,
      "outputs": []
    },
    {
      "cell_type": "code",
      "source": [],
      "metadata": {
        "id": "A4TPDffO9ukP"
      },
      "execution_count": null,
      "outputs": []
    },
    {
      "cell_type": "markdown",
      "source": [
        "#Input in python \"but it take input as string \""
      ],
      "metadata": {
        "id": "PdAHQSQM9wDm"
      }
    },
    {
      "cell_type": "code",
      "source": [
        "x = input(\"enter your roll number\")"
      ],
      "metadata": {
        "colab": {
          "base_uri": "https://localhost:8080/"
        },
        "id": "oIOtOmV293CA",
        "outputId": "4562b8dc-1fe4-4eb6-f6f0-ef01631c194f"
      },
      "execution_count": 19,
      "outputs": [
        {
          "name": "stdout",
          "output_type": "stream",
          "text": [
            "enter your roll number240303146\n"
          ]
        }
      ]
    },
    {
      "cell_type": "code",
      "source": [
        "int(x) + 1  # takeing x as inter by the thelp of typecasting"
      ],
      "metadata": {
        "colab": {
          "base_uri": "https://localhost:8080/"
        },
        "id": "yBJxUaeL-KrE",
        "outputId": "886149fa-13cf-454f-fdaf-7e001e79bbd5"
      },
      "execution_count": 21,
      "outputs": [
        {
          "output_type": "execute_result",
          "data": {
            "text/plain": [
              "240303147"
            ]
          },
          "metadata": {},
          "execution_count": 21
        }
      ]
    },
    {
      "cell_type": "markdown",
      "source": [
        "# string in python"
      ],
      "metadata": {
        "id": "GPAfEdAp-ivd"
      }
    },
    {
      "cell_type": "code",
      "source": [
        "a = \" atul kumar shahi \""
      ],
      "metadata": {
        "id": "8EpDrYK0-eqL"
      },
      "execution_count": 22,
      "outputs": []
    },
    {
      "cell_type": "code",
      "source": [
        "b  = ' atul kumar shahi '"
      ],
      "metadata": {
        "id": "zpc4oR8--sr9"
      },
      "execution_count": 23,
      "outputs": []
    },
    {
      "cell_type": "code",
      "source": [
        "c =  ''' atul kumar shahiis,\n",
        "          the boss of ,\n",
        "          info tech prv.ltd '''"
      ],
      "metadata": {
        "id": "qwgiureN-v_p"
      },
      "execution_count": 24,
      "outputs": []
    },
    {
      "cell_type": "code",
      "source": [
        "print(a )"
      ],
      "metadata": {
        "colab": {
          "base_uri": "https://localhost:8080/"
        },
        "id": "hHdJhW3D-5kD",
        "outputId": "b68172b4-60e7-4549-9213-5fe86c91eb75"
      },
      "execution_count": 25,
      "outputs": [
        {
          "output_type": "stream",
          "name": "stdout",
          "text": [
            " atul kumar shahi \n"
          ]
        }
      ]
    },
    {
      "cell_type": "code",
      "source": [
        "print(b)"
      ],
      "metadata": {
        "colab": {
          "base_uri": "https://localhost:8080/"
        },
        "id": "l3Ilrl_v-8fA",
        "outputId": "af5b7d62-0da7-4c68-a18d-bfa905600ff3"
      },
      "execution_count": 26,
      "outputs": [
        {
          "output_type": "stream",
          "name": "stdout",
          "text": [
            " atul kumar shahi \n"
          ]
        }
      ]
    },
    {
      "cell_type": "code",
      "source": [
        "print(c)"
      ],
      "metadata": {
        "colab": {
          "base_uri": "https://localhost:8080/"
        },
        "id": "HLuNW1x8--Fb",
        "outputId": "af439de2-f391-4231-f39d-eb702c9c8598"
      },
      "execution_count": 27,
      "outputs": [
        {
          "output_type": "stream",
          "name": "stdout",
          "text": [
            " atul kumar shahiis \n",
            "          the boss of \n",
            "          info tech prv.ltd \n"
          ]
        }
      ]
    },
    {
      "cell_type": "code",
      "source": [],
      "metadata": {
        "id": "E4ddre22_ARV"
      },
      "execution_count": null,
      "outputs": []
    },
    {
      "cell_type": "markdown",
      "source": [
        "# string iws inmutable in nature we can't change or update  a string"
      ],
      "metadata": {
        "id": "H9w4NKFC_DQU"
      }
    },
    {
      "cell_type": "markdown",
      "source": [
        "## string concatation"
      ],
      "metadata": {
        "id": "_m6ACSjT_Q61"
      }
    },
    {
      "cell_type": "code",
      "source": [
        "a + b"
      ],
      "metadata": {
        "colab": {
          "base_uri": "https://localhost:8080/",
          "height": 36
        },
        "id": "53gJ_7Wk_L3p",
        "outputId": "15d34648-bbfb-4895-d514-5df2fb12b842"
      },
      "execution_count": 29,
      "outputs": [
        {
          "output_type": "execute_result",
          "data": {
            "text/plain": [
              "' atul kumar shahi  atul kumar shahi '"
            ],
            "application/vnd.google.colaboratory.intrinsic+json": {
              "type": "string"
            }
          },
          "metadata": {},
          "execution_count": 29
        }
      ]
    },
    {
      "cell_type": "code",
      "source": [
        "a+c"
      ],
      "metadata": {
        "colab": {
          "base_uri": "https://localhost:8080/",
          "height": 36
        },
        "id": "nDV4Dv0B_dBX",
        "outputId": "7da72137-d2e7-48e5-bd32-496f3cf432e9"
      },
      "execution_count": 31,
      "outputs": [
        {
          "output_type": "execute_result",
          "data": {
            "text/plain": [
              "' atul kumar shahi  atul kumar shahiis \\n          the boss of \\n          info tech prv.ltd '"
            ],
            "application/vnd.google.colaboratory.intrinsic+json": {
              "type": "string"
            }
          },
          "metadata": {},
          "execution_count": 31
        }
      ]
    },
    {
      "cell_type": "code",
      "source": [
        "print(\"atul kumar shahi is \" + \"best ml eng in this world\")"
      ],
      "metadata": {
        "colab": {
          "base_uri": "https://localhost:8080/"
        },
        "id": "TTOcB_Pm_d7l",
        "outputId": "565aa9f0-fa22-4a19-8ccf-85f1ef4afa0b"
      },
      "execution_count": 33,
      "outputs": [
        {
          "output_type": "stream",
          "name": "stdout",
          "text": [
            "atul kumar shahi is best ml eng in this world\n"
          ]
        }
      ]
    },
    {
      "cell_type": "code",
      "source": [
        "print(len(c))"
      ],
      "metadata": {
        "colab": {
          "base_uri": "https://localhost:8080/"
        },
        "id": "dmDHLz0h_r2p",
        "outputId": "db50f451-595e-4f15-eac1-701efbfaef23"
      },
      "execution_count": 39,
      "outputs": [
        {
          "output_type": "stream",
          "name": "stdout",
          "text": [
            "72\n"
          ]
        }
      ]
    },
    {
      "cell_type": "code",
      "source": [
        "c[0]"
      ],
      "metadata": {
        "colab": {
          "base_uri": "https://localhost:8080/",
          "height": 36
        },
        "id": "GyB2M8ml_y3v",
        "outputId": "0eece195-5e41-4916-9191-331804c2d5d7"
      },
      "execution_count": 41,
      "outputs": [
        {
          "output_type": "execute_result",
          "data": {
            "text/plain": [
              "' '"
            ],
            "application/vnd.google.colaboratory.intrinsic+json": {
              "type": "string"
            }
          },
          "metadata": {},
          "execution_count": 41
        }
      ]
    },
    {
      "cell_type": "code",
      "source": [
        "c[1]"
      ],
      "metadata": {
        "colab": {
          "base_uri": "https://localhost:8080/",
          "height": 36
        },
        "id": "IASIXwQzANsj",
        "outputId": "72d5383b-8603-4316-da5d-882964323e98"
      },
      "execution_count": 42,
      "outputs": [
        {
          "output_type": "execute_result",
          "data": {
            "text/plain": [
              "'a'"
            ],
            "application/vnd.google.colaboratory.intrinsic+json": {
              "type": "string"
            }
          },
          "metadata": {},
          "execution_count": 42
        }
      ]
    },
    {
      "cell_type": "code",
      "source": [
        "c[1:50]"
      ],
      "metadata": {
        "colab": {
          "base_uri": "https://localhost:8080/",
          "height": 36
        },
        "id": "KWxpCmksAPEE",
        "outputId": "5d039612-6978-4a16-bdd7-033c0884697a"
      },
      "execution_count": 44,
      "outputs": [
        {
          "output_type": "execute_result",
          "data": {
            "text/plain": [
              "'atul kumar shahiis \\n          the boss of \\n      '"
            ],
            "application/vnd.google.colaboratory.intrinsic+json": {
              "type": "string"
            }
          },
          "metadata": {},
          "execution_count": 44
        }
      ]
    },
    {
      "cell_type": "code",
      "source": [
        "len(c)"
      ],
      "metadata": {
        "colab": {
          "base_uri": "https://localhost:8080/"
        },
        "id": "zCTb-hTmAR4y",
        "outputId": "a6af136a-983c-4b96-e619-25dc0fbbc6df"
      },
      "execution_count": 47,
      "outputs": [
        {
          "output_type": "execute_result",
          "data": {
            "text/plain": [
              "72"
            ]
          },
          "metadata": {},
          "execution_count": 47
        }
      ]
    },
    {
      "cell_type": "code",
      "source": [
        "len(a)"
      ],
      "metadata": {
        "colab": {
          "base_uri": "https://localhost:8080/"
        },
        "id": "PFMHJen6AXD1",
        "outputId": "2f6edcea-d037-4b32-d4b1-0d9a92cae00e"
      },
      "execution_count": 48,
      "outputs": [
        {
          "output_type": "execute_result",
          "data": {
            "text/plain": [
              "18"
            ]
          },
          "metadata": {},
          "execution_count": 48
        }
      ]
    },
    {
      "cell_type": "code",
      "source": [
        "a.lower()"
      ],
      "metadata": {
        "colab": {
          "base_uri": "https://localhost:8080/",
          "height": 36
        },
        "id": "xZEnWeJjAaD8",
        "outputId": "f68c193a-5667-4464-d343-2c4a9343343d"
      },
      "execution_count": 50,
      "outputs": [
        {
          "output_type": "execute_result",
          "data": {
            "text/plain": [
              "' atul kumar shahi '"
            ],
            "application/vnd.google.colaboratory.intrinsic+json": {
              "type": "string"
            }
          },
          "metadata": {},
          "execution_count": 50
        }
      ]
    },
    {
      "cell_type": "code",
      "source": [
        "a.upper()"
      ],
      "metadata": {
        "colab": {
          "base_uri": "https://localhost:8080/",
          "height": 36
        },
        "id": "eTxXtiFtAeQg",
        "outputId": "e46d6b46-0049-4c75-92de-e864985bd5ce"
      },
      "execution_count": 52,
      "outputs": [
        {
          "output_type": "execute_result",
          "data": {
            "text/plain": [
              "' ATUL KUMAR SHAHI '"
            ],
            "application/vnd.google.colaboratory.intrinsic+json": {
              "type": "string"
            }
          },
          "metadata": {},
          "execution_count": 52
        }
      ]
    },
    {
      "cell_type": "code",
      "source": [
        "a.strip() # it remove the space in the string"
      ],
      "metadata": {
        "colab": {
          "base_uri": "https://localhost:8080/",
          "height": 36
        },
        "id": "j-SUMO_jAgT8",
        "outputId": "056c51cd-9fa1-4759-d602-d0513a19e89b"
      },
      "execution_count": 60,
      "outputs": [
        {
          "output_type": "execute_result",
          "data": {
            "text/plain": [
              "'atul kumar shahi'"
            ],
            "application/vnd.google.colaboratory.intrinsic+json": {
              "type": "string"
            }
          },
          "metadata": {},
          "execution_count": 60
        }
      ]
    },
    {
      "cell_type": "code",
      "source": [
        "c.split() ## The split() method is used to divide a string into a list of substrings based on a specified delimiter (separator). If no delimiter is provided, it splits the string by any whitespace and discards empty strings."
      ],
      "metadata": {
        "colab": {
          "base_uri": "https://localhost:8080/"
        },
        "id": "JvziYT_GAjes",
        "outputId": "6175bde8-2ada-4f88-ed6a-5b536c599eb9"
      },
      "execution_count": 62,
      "outputs": [
        {
          "output_type": "execute_result",
          "data": {
            "text/plain": [
              "['atul', 'kumar', 'shahiis', 'the', 'boss', 'of', 'info', 'tech', 'prv.ltd']"
            ]
          },
          "metadata": {},
          "execution_count": 62
        }
      ]
    },
    {
      "cell_type": "code",
      "source": [
        "str = ' '"
      ],
      "metadata": {
        "id": "pK8wTd4BB4lo"
      },
      "execution_count": null,
      "outputs": []
    },
    {
      "cell_type": "code",
      "source": [
        "str = ''.join(c )\n",
        "print(str)\n"
      ],
      "metadata": {
        "colab": {
          "base_uri": "https://localhost:8080/"
        },
        "id": "P7OtdPNTBXgQ",
        "outputId": "63b29944-ecdf-4041-c3cd-5eee7e7f4862"
      },
      "execution_count": 78,
      "outputs": [
        {
          "output_type": "stream",
          "name": "stdout",
          "text": [
            " atul kumar shahiis \n",
            "          the boss of \n",
            "          info tech prv.ltd \n"
          ]
        }
      ]
    },
    {
      "cell_type": "code",
      "source": [],
      "metadata": {
        "id": "8OVPZQgbCu8B"
      },
      "execution_count": null,
      "outputs": []
    }
  ]
}