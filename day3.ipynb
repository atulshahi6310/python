{
  "nbformat": 4,
  "nbformat_minor": 0,
  "metadata": {
    "colab": {
      "provenance": []
    },
    "kernelspec": {
      "name": "python3",
      "display_name": "Python 3"
    },
    "language_info": {
      "name": "python"
    }
  },
  "cells": [
    {
      "cell_type": "markdown",
      "source": [
        "# LIST\n"
      ],
      "metadata": {
        "id": "qWsaJfV3OtpR"
      }
    },
    {
      "cell_type": "code",
      "execution_count": 142,
      "metadata": {
        "id": "Y6Yr0BtaOhFY"
      },
      "outputs": [],
      "source": [
        "emp = [\"atul\" , \" shahi\" , \"pearl\" , \"aswin\" , \"mikal\"]"
      ]
    },
    {
      "cell_type": "code",
      "source": [
        " emp"
      ],
      "metadata": {
        "colab": {
          "base_uri": "https://localhost:8080/"
        },
        "id": "gAHsFLEAiLG5",
        "outputId": "b8bd2083-fa05-4f48-8a8a-885c30fb6bb6"
      },
      "execution_count": 143,
      "outputs": [
        {
          "output_type": "execute_result",
          "data": {
            "text/plain": [
              "['atul', ' shahi', 'pearl', 'aswin', 'mikal']"
            ]
          },
          "metadata": {},
          "execution_count": 143
        }
      ]
    },
    {
      "cell_type": "code",
      "source": [
        "emp.append(\"rahul\")"
      ],
      "metadata": {
        "id": "dReiMUiHiY4K"
      },
      "execution_count": 144,
      "outputs": []
    },
    {
      "cell_type": "code",
      "source": [
        "emp"
      ],
      "metadata": {
        "colab": {
          "base_uri": "https://localhost:8080/"
        },
        "id": "k4lUfQJaifVm",
        "outputId": "cb32cb40-5aed-4bf5-c90e-8b467c91a5c9"
      },
      "execution_count": 145,
      "outputs": [
        {
          "output_type": "execute_result",
          "data": {
            "text/plain": [
              "['atul', ' shahi', 'pearl', 'aswin', 'mikal', 'rahul']"
            ]
          },
          "metadata": {},
          "execution_count": 145
        }
      ]
    },
    {
      "cell_type": "code",
      "source": [
        "emp.insert(3,\"vishal\") # it can insert vishal at index number 3\n"
      ],
      "metadata": {
        "id": "se8goCMTigKd"
      },
      "execution_count": 146,
      "outputs": []
    },
    {
      "cell_type": "code",
      "source": [
        "emp\n"
      ],
      "metadata": {
        "colab": {
          "base_uri": "https://localhost:8080/"
        },
        "id": "xZqSYB_2iqhY",
        "outputId": "37f43c0d-b5b9-46af-ac4b-d55eb86c2ab2"
      },
      "execution_count": 147,
      "outputs": [
        {
          "output_type": "execute_result",
          "data": {
            "text/plain": [
              "['atul', ' shahi', 'pearl', 'vishal', 'aswin', 'mikal', 'rahul']"
            ]
          },
          "metadata": {},
          "execution_count": 147
        }
      ]
    },
    {
      "cell_type": "code",
      "source": [
        "emp.extend([\"rahul\" , \"vishal\"]) # it can repeat the  particular element   of list at the end"
      ],
      "metadata": {
        "id": "4gNGTybmisD3"
      },
      "execution_count": 148,
      "outputs": []
    },
    {
      "cell_type": "code",
      "source": [
        "emp"
      ],
      "metadata": {
        "colab": {
          "base_uri": "https://localhost:8080/"
        },
        "id": "iY5Ao-ZfizC4",
        "outputId": "dfcbf462-7268-4f7b-fbf3-bd35ede9b765"
      },
      "execution_count": 149,
      "outputs": [
        {
          "output_type": "execute_result",
          "data": {
            "text/plain": [
              "['atul',\n",
              " ' shahi',\n",
              " 'pearl',\n",
              " 'vishal',\n",
              " 'aswin',\n",
              " 'mikal',\n",
              " 'rahul',\n",
              " 'rahul',\n",
              " 'vishal']"
            ]
          },
          "metadata": {},
          "execution_count": 149
        }
      ]
    },
    {
      "cell_type": "code",
      "source": [
        "emp.remove(\"rahul\")"
      ],
      "metadata": {
        "id": "a1Vqpfi5i21_"
      },
      "execution_count": 150,
      "outputs": []
    },
    {
      "cell_type": "code",
      "source": [
        "emp"
      ],
      "metadata": {
        "colab": {
          "base_uri": "https://localhost:8080/"
        },
        "id": "bkMj0WeojRgU",
        "outputId": "1b4d229e-e9f0-4b43-95b5-3d4e97c4f6d7"
      },
      "execution_count": 151,
      "outputs": [
        {
          "output_type": "execute_result",
          "data": {
            "text/plain": [
              "['atul', ' shahi', 'pearl', 'vishal', 'aswin', 'mikal', 'rahul', 'vishal']"
            ]
          },
          "metadata": {},
          "execution_count": 151
        }
      ]
    },
    {
      "cell_type": "code",
      "source": [
        "emp.pop(3)"
      ],
      "metadata": {
        "colab": {
          "base_uri": "https://localhost:8080/",
          "height": 36
        },
        "id": "0E5hnyGNjSRS",
        "outputId": "843705c1-889b-41e4-f3cb-c5e8bc5780b7"
      },
      "execution_count": 152,
      "outputs": [
        {
          "output_type": "execute_result",
          "data": {
            "text/plain": [
              "'vishal'"
            ],
            "application/vnd.google.colaboratory.intrinsic+json": {
              "type": "string"
            }
          },
          "metadata": {},
          "execution_count": 152
        }
      ]
    },
    {
      "cell_type": "code",
      "source": [
        "emp"
      ],
      "metadata": {
        "colab": {
          "base_uri": "https://localhost:8080/"
        },
        "id": "QyBKmZBmjW4c",
        "outputId": "b70aae42-65e2-4946-b922-dd45194f9d46"
      },
      "execution_count": 153,
      "outputs": [
        {
          "output_type": "execute_result",
          "data": {
            "text/plain": [
              "['atul', ' shahi', 'pearl', 'aswin', 'mikal', 'rahul', 'vishal']"
            ]
          },
          "metadata": {},
          "execution_count": 153
        }
      ]
    },
    {
      "cell_type": "code",
      "source": [
        "emp.index(\"vishal\") # it is use to find the index of particular elements\n"
      ],
      "metadata": {
        "colab": {
          "base_uri": "https://localhost:8080/"
        },
        "id": "fhrfym3pjZCp",
        "outputId": "f489931a-7ae7-44f7-8f7f-c9bb282f927d"
      },
      "execution_count": 154,
      "outputs": [
        {
          "output_type": "execute_result",
          "data": {
            "text/plain": [
              "6"
            ]
          },
          "metadata": {},
          "execution_count": 154
        }
      ]
    },
    {
      "cell_type": "code",
      "source": [
        "emp.count(\"atul\")"
      ],
      "metadata": {
        "colab": {
          "base_uri": "https://localhost:8080/"
        },
        "id": "EVQfxV68jc_M",
        "outputId": "ba9f28b2-e052-4028-f680-ab35b4163146"
      },
      "execution_count": 155,
      "outputs": [
        {
          "output_type": "execute_result",
          "data": {
            "text/plain": [
              "1"
            ]
          },
          "metadata": {},
          "execution_count": 155
        }
      ]
    },
    {
      "cell_type": "code",
      "source": [
        "emp.sort()"
      ],
      "metadata": {
        "id": "CSkN03wZj7Qo"
      },
      "execution_count": 156,
      "outputs": []
    },
    {
      "cell_type": "code",
      "source": [
        "emp"
      ],
      "metadata": {
        "colab": {
          "base_uri": "https://localhost:8080/"
        },
        "id": "oTN_7izOkA_Z",
        "outputId": "40c1181c-4eb4-4276-a700-048e469afbc9"
      },
      "execution_count": 157,
      "outputs": [
        {
          "output_type": "execute_result",
          "data": {
            "text/plain": [
              "[' shahi', 'aswin', 'atul', 'mikal', 'pearl', 'rahul', 'vishal']"
            ]
          },
          "metadata": {},
          "execution_count": 157
        }
      ]
    },
    {
      "cell_type": "code",
      "source": [
        "print(emp.reverse())"
      ],
      "metadata": {
        "colab": {
          "base_uri": "https://localhost:8080/"
        },
        "id": "SmtpBkpgkBv5",
        "outputId": "8bde3517-c787-447c-a4f7-ee54467f2c80"
      },
      "execution_count": 158,
      "outputs": [
        {
          "output_type": "stream",
          "name": "stdout",
          "text": [
            "None\n"
          ]
        }
      ]
    },
    {
      "cell_type": "code",
      "source": [
        "emp"
      ],
      "metadata": {
        "colab": {
          "base_uri": "https://localhost:8080/"
        },
        "id": "8bc4tpVBkLAy",
        "outputId": "970e1571-0c53-4ed9-9130-5f66840899e5"
      },
      "execution_count": 159,
      "outputs": [
        {
          "output_type": "execute_result",
          "data": {
            "text/plain": [
              "['vishal', 'rahul', 'pearl', 'mikal', 'atul', 'aswin', ' shahi']"
            ]
          },
          "metadata": {},
          "execution_count": 159
        }
      ]
    },
    {
      "cell_type": "code",
      "source": [
        "emp.clear()"
      ],
      "metadata": {
        "id": "xrCs1fvlkMWM"
      },
      "execution_count": 160,
      "outputs": []
    },
    {
      "cell_type": "code",
      "source": [
        "emp"
      ],
      "metadata": {
        "colab": {
          "base_uri": "https://localhost:8080/"
        },
        "id": "Pjw_V9vkkQLQ",
        "outputId": "c785b22c-ade4-45a0-eb1e-625bdd14d69e"
      },
      "execution_count": 161,
      "outputs": [
        {
          "output_type": "execute_result",
          "data": {
            "text/plain": [
              "[]"
            ]
          },
          "metadata": {},
          "execution_count": 161
        }
      ]
    },
    {
      "cell_type": "markdown",
      "source": [
        "#Tuple in python is a inmutable set\n",
        "## this is faster than list\n",
        "### because it can not be update  only methodes are abilable is is count() , index()"
      ],
      "metadata": {
        "id": "GQgrFgjfkS7V"
      }
    },
    {
      "cell_type": "code",
      "source": [
        "roll = (1,2,3,4,5,6,7,8,9,10)\n",
        "roll.count(5)"
      ],
      "metadata": {
        "colab": {
          "base_uri": "https://localhost:8080/"
        },
        "id": "Z17aiGNrkXuE",
        "outputId": "718c7cd4-cc0d-49cd-ce7c-36251a250897"
      },
      "execution_count": 162,
      "outputs": [
        {
          "output_type": "execute_result",
          "data": {
            "text/plain": [
              "1"
            ]
          },
          "metadata": {},
          "execution_count": 162
        }
      ]
    },
    {
      "cell_type": "code",
      "source": [
        "roll.index(5)"
      ],
      "metadata": {
        "colab": {
          "base_uri": "https://localhost:8080/"
        },
        "id": "59E8aM1Pk_S9",
        "outputId": "674d304c-68f2-4617-a7a5-3dcb017a9a22"
      },
      "execution_count": 163,
      "outputs": [
        {
          "output_type": "execute_result",
          "data": {
            "text/plain": [
              "4"
            ]
          },
          "metadata": {},
          "execution_count": 163
        }
      ]
    },
    {
      "cell_type": "code",
      "source": [
        "roll[1:6]"
      ],
      "metadata": {
        "colab": {
          "base_uri": "https://localhost:8080/"
        },
        "id": "WGf7OKh8lE6z",
        "outputId": "2462e492-404c-438d-a2ca-ad7214d46c17"
      },
      "execution_count": 164,
      "outputs": [
        {
          "output_type": "execute_result",
          "data": {
            "text/plain": [
              "(2, 3, 4, 5, 6)"
            ]
          },
          "metadata": {},
          "execution_count": 164
        }
      ]
    },
    {
      "cell_type": "markdown",
      "source": [
        "# set in ppython are muteble  and unorderd it only show unique elements\n",
        "\n",
        "#{} empty set is not look like this  its a symbol of empty dictonary  empty set look like set() -  this is empty set define"
      ],
      "metadata": {
        "id": "sctU0wWnlMJL"
      }
    },
    {
      "cell_type": "code",
      "source": [
        "roll = {1,2,4,66,7,8,9.0,75,\"atul\" , \"shahi \"}"
      ],
      "metadata": {
        "id": "NLGHZp40lwQw"
      },
      "execution_count": 165,
      "outputs": []
    },
    {
      "cell_type": "code",
      "source": [
        "roll"
      ],
      "metadata": {
        "colab": {
          "base_uri": "https://localhost:8080/"
        },
        "id": "rMVFykLel9vp",
        "outputId": "15435469-9909-4d17-f675-eb1b2dac347a"
      },
      "execution_count": 166,
      "outputs": [
        {
          "output_type": "execute_result",
          "data": {
            "text/plain": [
              "{1, 2, 4, 66, 7, 75, 8, 9.0, 'atul', 'shahi '}"
            ]
          },
          "metadata": {},
          "execution_count": 166
        }
      ]
    },
    {
      "cell_type": "code",
      "source": [
        "roll.add(5)"
      ],
      "metadata": {
        "id": "oFipHxCnl-SS"
      },
      "execution_count": 167,
      "outputs": []
    },
    {
      "cell_type": "code",
      "source": [
        "roll"
      ],
      "metadata": {
        "colab": {
          "base_uri": "https://localhost:8080/"
        },
        "id": "Z3ztWxwrmDe5",
        "outputId": "a8eb16da-cbf0-47d9-ba3e-f60a2fbd1f87"
      },
      "execution_count": 168,
      "outputs": [
        {
          "output_type": "execute_result",
          "data": {
            "text/plain": [
              "{1, 2, 4, 5, 66, 7, 75, 8, 9.0, 'atul', 'shahi '}"
            ]
          },
          "metadata": {},
          "execution_count": 168
        }
      ]
    },
    {
      "cell_type": "code",
      "source": [
        "roll.update({5 : 8})"
      ],
      "metadata": {
        "id": "XnZxkUPVmeMH"
      },
      "execution_count": 169,
      "outputs": []
    },
    {
      "cell_type": "code",
      "source": [
        "\n",
        "\n",
        "roll"
      ],
      "metadata": {
        "colab": {
          "base_uri": "https://localhost:8080/"
        },
        "id": "lwnGUQ2hmigN",
        "outputId": "13dc58f7-6565-4b53-c525-ddcf419aa39a"
      },
      "execution_count": 170,
      "outputs": [
        {
          "output_type": "execute_result",
          "data": {
            "text/plain": [
              "{1, 2, 4, 5, 66, 7, 75, 8, 9.0, 'atul', 'shahi '}"
            ]
          },
          "metadata": {},
          "execution_count": 170
        }
      ]
    },
    {
      "cell_type": "code",
      "source": [
        "roll.remove(\"atul\")"
      ],
      "metadata": {
        "id": "o8BADsekmjXz"
      },
      "execution_count": 171,
      "outputs": []
    },
    {
      "cell_type": "code",
      "source": [
        "roll"
      ],
      "metadata": {
        "colab": {
          "base_uri": "https://localhost:8080/"
        },
        "id": "hxjlrAzemz8g",
        "outputId": "4bda2396-b8ba-4583-c606-6a1f9e0edd2f"
      },
      "execution_count": 172,
      "outputs": [
        {
          "output_type": "execute_result",
          "data": {
            "text/plain": [
              "{1, 2, 4, 5, 66, 7, 75, 8, 9.0, 'shahi '}"
            ]
          },
          "metadata": {},
          "execution_count": 172
        }
      ]
    },
    {
      "cell_type": "code",
      "source": [
        "roll.discard(5)"
      ],
      "metadata": {
        "id": "7JH_CWQQm0j_"
      },
      "execution_count": 173,
      "outputs": []
    },
    {
      "cell_type": "code",
      "source": [
        "roll"
      ],
      "metadata": {
        "colab": {
          "base_uri": "https://localhost:8080/"
        },
        "id": "ZXzJM61zm5Bv",
        "outputId": "4d6a8551-d9da-4867-8a98-991086e91f9b"
      },
      "execution_count": 174,
      "outputs": [
        {
          "output_type": "execute_result",
          "data": {
            "text/plain": [
              "{1, 2, 4, 66, 7, 75, 8, 9.0, 'shahi '}"
            ]
          },
          "metadata": {},
          "execution_count": 174
        }
      ]
    },
    {
      "cell_type": "code",
      "source": [
        "roll.pop()"
      ],
      "metadata": {
        "colab": {
          "base_uri": "https://localhost:8080/"
        },
        "id": "dzjP2Mc0m5lr",
        "outputId": "2e1033bc-5ef8-451e-a232-1ec1da70f632"
      },
      "execution_count": 175,
      "outputs": [
        {
          "output_type": "execute_result",
          "data": {
            "text/plain": [
              "1"
            ]
          },
          "metadata": {},
          "execution_count": 175
        }
      ]
    },
    {
      "cell_type": "code",
      "source": [
        "roll.pop()"
      ],
      "metadata": {
        "colab": {
          "base_uri": "https://localhost:8080/"
        },
        "id": "9GnmIG5jm9fZ",
        "outputId": "9f6574cf-83e2-4efa-aa81-a39686689d1f"
      },
      "execution_count": 176,
      "outputs": [
        {
          "output_type": "execute_result",
          "data": {
            "text/plain": [
              "2"
            ]
          },
          "metadata": {},
          "execution_count": 176
        }
      ]
    },
    {
      "cell_type": "code",
      "source": [
        "roll.add(1)"
      ],
      "metadata": {
        "id": "zsYACnP-nLrS"
      },
      "execution_count": 177,
      "outputs": []
    },
    {
      "cell_type": "code",
      "source": [
        "roll1 = {1,2,3,4,5,6,7,8,9,10}"
      ],
      "metadata": {
        "id": "k3kP-x9UnTNN"
      },
      "execution_count": 178,
      "outputs": []
    },
    {
      "cell_type": "code",
      "source": [
        "roll.union(roll1)"
      ],
      "metadata": {
        "colab": {
          "base_uri": "https://localhost:8080/"
        },
        "id": "TraZGmpAnYzu",
        "outputId": "7c4d1109-5da7-47f8-b3eb-3bb86d7ed20c"
      },
      "execution_count": 179,
      "outputs": [
        {
          "output_type": "execute_result",
          "data": {
            "text/plain": [
              "{1, 10, 2, 3, 4, 5, 6, 66, 7, 75, 8, 9.0, 'shahi '}"
            ]
          },
          "metadata": {},
          "execution_count": 179
        }
      ]
    },
    {
      "cell_type": "code",
      "source": [
        "roll.intersection(roll1)"
      ],
      "metadata": {
        "colab": {
          "base_uri": "https://localhost:8080/"
        },
        "id": "KI_OumEgncBk",
        "outputId": "bc8b3c04-11e4-4cc4-a67b-6233f617c9ba"
      },
      "execution_count": 180,
      "outputs": [
        {
          "output_type": "execute_result",
          "data": {
            "text/plain": [
              "{1, 4, 7, 8, 9.0}"
            ]
          },
          "metadata": {},
          "execution_count": 180
        }
      ]
    },
    {
      "cell_type": "code",
      "source": [
        "roll.difference(roll1)\n",
        "\n"
      ],
      "metadata": {
        "colab": {
          "base_uri": "https://localhost:8080/"
        },
        "id": "ORb2_Hf3ne1d",
        "outputId": "ac63ae86-2287-41c2-8faf-fbe94d9cb1f2"
      },
      "execution_count": 181,
      "outputs": [
        {
          "output_type": "execute_result",
          "data": {
            "text/plain": [
              "{66, 75, 'shahi '}"
            ]
          },
          "metadata": {},
          "execution_count": 181
        }
      ]
    },
    {
      "cell_type": "code",
      "source": [
        "roll.symmetric_difference(roll1)"
      ],
      "metadata": {
        "colab": {
          "base_uri": "https://localhost:8080/"
        },
        "id": "x3mwWSSHnhyl",
        "outputId": "09dc2e71-172b-4924-e1c8-8038127c4822"
      },
      "execution_count": 182,
      "outputs": [
        {
          "output_type": "execute_result",
          "data": {
            "text/plain": [
              "{10, 2, 3, 5, 6, 66, 75, 'shahi '}"
            ]
          },
          "metadata": {},
          "execution_count": 182
        }
      ]
    },
    {
      "cell_type": "code",
      "source": [
        "roll.isdisjoint(roll1)"
      ],
      "metadata": {
        "colab": {
          "base_uri": "https://localhost:8080/"
        },
        "id": "rNptGI75npMC",
        "outputId": "fde3712f-7443-4d14-f71e-0bcde4dca285"
      },
      "execution_count": 183,
      "outputs": [
        {
          "output_type": "execute_result",
          "data": {
            "text/plain": [
              "False"
            ]
          },
          "metadata": {},
          "execution_count": 183
        }
      ]
    },
    {
      "cell_type": "code",
      "source": [
        "roll.issubset(roll1)"
      ],
      "metadata": {
        "colab": {
          "base_uri": "https://localhost:8080/"
        },
        "id": "ZqHwtGcPnuPv",
        "outputId": "740334bb-0925-4faa-8f95-83f0f57b91c8"
      },
      "execution_count": 184,
      "outputs": [
        {
          "output_type": "execute_result",
          "data": {
            "text/plain": [
              "False"
            ]
          },
          "metadata": {},
          "execution_count": 184
        }
      ]
    },
    {
      "cell_type": "code",
      "source": [
        "roll.issuperset(roll1)"
      ],
      "metadata": {
        "colab": {
          "base_uri": "https://localhost:8080/"
        },
        "id": "wt3i8vvrnxWv",
        "outputId": "8f84bf47-5b6c-4cbf-b9e1-e3835560c2c8"
      },
      "execution_count": 185,
      "outputs": [
        {
          "output_type": "execute_result",
          "data": {
            "text/plain": [
              "False"
            ]
          },
          "metadata": {},
          "execution_count": 185
        }
      ]
    },
    {
      "cell_type": "code",
      "source": [],
      "metadata": {
        "id": "wqGlXGprn0fo"
      },
      "execution_count": 185,
      "outputs": []
    },
    {
      "cell_type": "markdown",
      "source": [
        "# dictionary in python is unorderd  and mutable at any key pair corrections"
      ],
      "metadata": {
        "id": "AblH5-fLn3Fe"
      }
    },
    {
      "cell_type": "code",
      "source": [
        "student = {\n",
        "    \"name\" : \"atul kumar shahi \",\n",
        "      \"roll \" : 62 ,\n",
        "      \"cgpa\" : 7.68\n",
        "    }"
      ],
      "metadata": {
        "id": "jjHdfcDuoEZy"
      },
      "execution_count": 186,
      "outputs": []
    },
    {
      "cell_type": "code",
      "source": [
        "student"
      ],
      "metadata": {
        "colab": {
          "base_uri": "https://localhost:8080/"
        },
        "id": "uMsdjrbcoGrb",
        "outputId": "27827bff-37c0-4898-f825-4978cbec794d"
      },
      "execution_count": 187,
      "outputs": [
        {
          "output_type": "execute_result",
          "data": {
            "text/plain": [
              "{'name': 'atul kumar shahi ', 'roll ': 62, 'cgpa': 7.68}"
            ]
          },
          "metadata": {},
          "execution_count": 187
        }
      ]
    },
    {
      "cell_type": "code",
      "source": [
        "student"
      ],
      "metadata": {
        "colab": {
          "base_uri": "https://localhost:8080/"
        },
        "id": "4pjIOjEDocTk",
        "outputId": "03b10b31-e8a6-43f9-d7d5-f5e059575312"
      },
      "execution_count": 188,
      "outputs": [
        {
          "output_type": "execute_result",
          "data": {
            "text/plain": [
              "{'name': 'atul kumar shahi ', 'roll ': 62, 'cgpa': 7.68}"
            ]
          },
          "metadata": {},
          "execution_count": 188
        }
      ]
    },
    {
      "cell_type": "code",
      "source": [
        "from os import name\n",
        "person = dict(name=\"atul kumar shahi\")"
      ],
      "metadata": {
        "id": "OjRLdD2gogXx"
      },
      "execution_count": 189,
      "outputs": []
    },
    {
      "cell_type": "code",
      "source": [
        "person"
      ],
      "metadata": {
        "colab": {
          "base_uri": "https://localhost:8080/"
        },
        "id": "7xdhS0f1orHe",
        "outputId": "0710628e-a469-4197-8406-6c318490ad78"
      },
      "execution_count": 190,
      "outputs": [
        {
          "output_type": "execute_result",
          "data": {
            "text/plain": [
              "{'name': 'atul kumar shahi'}"
            ]
          },
          "metadata": {},
          "execution_count": 190
        }
      ]
    },
    {
      "cell_type": "code",
      "source": [
        "student"
      ],
      "metadata": {
        "colab": {
          "base_uri": "https://localhost:8080/"
        },
        "id": "jvTSGVxbo1Eg",
        "outputId": "3140fd13-3c5d-4501-e796-70c5b4786534"
      },
      "execution_count": 191,
      "outputs": [
        {
          "output_type": "execute_result",
          "data": {
            "text/plain": [
              "{'name': 'atul kumar shahi ', 'roll ': 62, 'cgpa': 7.68}"
            ]
          },
          "metadata": {},
          "execution_count": 191
        }
      ]
    },
    {
      "cell_type": "code",
      "source": [
        "value = student.values()"
      ],
      "metadata": {
        "id": "GI2EvXaBo2mF"
      },
      "execution_count": 192,
      "outputs": []
    },
    {
      "cell_type": "code",
      "source": [
        "print(value)"
      ],
      "metadata": {
        "colab": {
          "base_uri": "https://localhost:8080/"
        },
        "id": "MfpAv2tjo5Bg",
        "outputId": "1715392a-d343-4b81-8e85-63a07faad453"
      },
      "execution_count": 193,
      "outputs": [
        {
          "output_type": "stream",
          "name": "stdout",
          "text": [
            "dict_values(['atul kumar shahi ', 62, 7.68])\n"
          ]
        }
      ]
    },
    {
      "cell_type": "code",
      "source": [
        "cgpaa = student.get(name )"
      ],
      "metadata": {
        "id": "nd8ijYBtpdQi"
      },
      "execution_count": 194,
      "outputs": []
    },
    {
      "cell_type": "code",
      "source": [
        "print(cgpaa)"
      ],
      "metadata": {
        "colab": {
          "base_uri": "https://localhost:8080/"
        },
        "id": "CX5g7L3Jp2Ng",
        "outputId": "22a80701-a809-46cf-cc9e-5925e1270748"
      },
      "execution_count": 195,
      "outputs": [
        {
          "output_type": "stream",
          "name": "stdout",
          "text": [
            "None\n"
          ]
        }
      ]
    },
    {
      "cell_type": "code",
      "source": [
        "student.update({\"name\" : \" sidharth shahi\"})"
      ],
      "metadata": {
        "id": "tGrlAxmyqJab"
      },
      "execution_count": 196,
      "outputs": []
    },
    {
      "cell_type": "code",
      "source": [
        "student"
      ],
      "metadata": {
        "colab": {
          "base_uri": "https://localhost:8080/"
        },
        "id": "gAZZgkLLqYuu",
        "outputId": "32245f24-1783-4966-c0ac-d8ade935f7c5"
      },
      "execution_count": 197,
      "outputs": [
        {
          "output_type": "execute_result",
          "data": {
            "text/plain": [
              "{'name': ' sidharth shahi', 'roll ': 62, 'cgpa': 7.68}"
            ]
          },
          "metadata": {},
          "execution_count": 197
        }
      ]
    },
    {
      "cell_type": "code",
      "source": [
        "student.popitem()"
      ],
      "metadata": {
        "colab": {
          "base_uri": "https://localhost:8080/"
        },
        "id": "zlh2vEN8qaQe",
        "outputId": "056caec8-ee94-45a0-b2bc-0672372c6059"
      },
      "execution_count": 198,
      "outputs": [
        {
          "output_type": "execute_result",
          "data": {
            "text/plain": [
              "('cgpa', 7.68)"
            ]
          },
          "metadata": {},
          "execution_count": 198
        }
      ]
    },
    {
      "cell_type": "code",
      "source": [],
      "metadata": {
        "id": "OgACj2-Uqfdl"
      },
      "execution_count": 198,
      "outputs": []
    }
  ]
}