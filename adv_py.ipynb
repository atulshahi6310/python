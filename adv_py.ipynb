{
  "nbformat": 4,
  "nbformat_minor": 0,
  "metadata": {
    "colab": {
      "provenance": []
    },
    "kernelspec": {
      "name": "python3",
      "display_name": "Python 3"
    },
    "language_info": {
      "name": "python"
    }
  },
  "cells": [
    {
      "cell_type": "markdown",
      "source": [
        "# Adv python"
      ],
      "metadata": {
        "id": "_w6BuQacfFz2"
      }
    },
    {
      "cell_type": "code",
      "source": [
        "#decorator"
      ],
      "metadata": {
        "id": "ajAhmsB5fLLl"
      },
      "execution_count": 1,
      "outputs": []
    },
    {
      "cell_type": "code",
      "source": [
        "def decorator(func):\n",
        "  def wrapper():\n",
        "    print(\"I am about to print\")\n",
        "    func()\n",
        "    print(\"I am already printed\")\n",
        "  return wrapper\n",
        "\n",
        "def hello():\n",
        "  print(\"Hello\")\n",
        "\n",
        "f = decorator(hello)\n",
        "f()"
      ],
      "metadata": {
        "colab": {
          "base_uri": "https://localhost:8080/"
        },
        "id": "VdaDEN1bhzKO",
        "outputId": "86c4ad7a-8eeb-4c59-b17c-98f2b4605425"
      },
      "execution_count": 3,
      "outputs": [
        {
          "output_type": "stream",
          "name": "stdout",
          "text": [
            "I am about to print\n",
            "Hello\n",
            "I am already printed\n"
          ]
        }
      ]
    },
    {
      "cell_type": "code",
      "source": [
        "def repeat(n):\n",
        "  def decorator(func):\n",
        "    def wrapper(a):\n",
        "      for i in range(n):\n",
        "        func(a)\n",
        "    return wrapper\n",
        "  return decorator\n",
        "\n",
        "@repeat(6)\n",
        "def hello(a):\n",
        "  print(f\"Hello  {a}\")\n",
        "hello(\"atul\")"
      ],
      "metadata": {
        "colab": {
          "base_uri": "https://localhost:8080/"
        },
        "id": "7dUZMtcoinNr",
        "outputId": "3586d700-2b49-46b5-b97b-d94351acfce9"
      },
      "execution_count": 5,
      "outputs": [
        {
          "output_type": "stream",
          "name": "stdout",
          "text": [
            "Hello atul\n",
            "Hello atul\n",
            "Hello atul\n",
            "Hello atul\n",
            "Hello atul\n",
            "Hello atul\n"
          ]
        }
      ]
    },
    {
      "cell_type": "markdown",
      "source": [
        "# getter and setter"
      ],
      "metadata": {
        "id": "GLsBeDbGpcDY"
      }
    },
    {
      "cell_type": "code",
      "source": [
        "class empl:\n",
        "  def __init__(self,name,sal):\n",
        "    self.name = name\n",
        "    self.sal = sal\n",
        "  def display(self):\n",
        "    print(self.name,self.sal)\n",
        "  @property\n",
        "  def first_name(self):\n",
        "    return self.name.split()[0]\n",
        "  @property\n",
        "  def last_name(self):\n",
        "    return self.name.split()[1]\n",
        "  @first_name.setter\n",
        "  def first_name(self, name):\n",
        "    names = self.name.split()\n",
        "    self.name = name + \" \" + names[1]\n",
        "  @last_name.setter\n",
        "  def last_name(self, name):\n",
        "    names = self.name.split()\n",
        "    self.name = names[0] + \" \" + name\n",
        "\n",
        "\n",
        "e = empl(\"jhon dowe\" , 200000)\n",
        "print(e.first_name)\n",
        "print(e.last_name)\n",
        "e.first_name = input(\"enter you first name \")\n",
        "e.last_name = input(\"enter you last name \")\n",
        "e.display()"
      ],
      "metadata": {
        "colab": {
          "base_uri": "https://localhost:8080/"
        },
        "id": "h8ST5CxWmKTt",
        "outputId": "4bdfdf1e-a489-4f16-d4f3-a4ba1b7e8e3d"
      },
      "execution_count": 9,
      "outputs": [
        {
          "output_type": "stream",
          "name": "stdout",
          "text": [
            "jhon\n",
            "dowe\n",
            "enter you first name khol\n",
            "enter you last name dal\n",
            "khol dal 200000\n"
          ]
        }
      ]
    },
    {
      "cell_type": "code",
      "source": [
        "\n",
        "\n"
      ],
      "metadata": {
        "id": "FCYELTvzqLoj"
      },
      "execution_count": null,
      "outputs": []
    }
  ]
}