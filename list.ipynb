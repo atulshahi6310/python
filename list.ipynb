{
  "nbformat": 4,
  "nbformat_minor": 0,
  "metadata": {
    "colab": {
      "provenance": [],
      "toc_visible": true
    },
    "kernelspec": {
      "name": "python3",
      "display_name": "Python 3"
    },
    "language_info": {
      "name": "python"
    }
  },
  "cells": [
    {
      "cell_type": "markdown",
      "source": [
        "# list comprehancen\n"
      ],
      "metadata": {
        "id": "w-QR1-Y3f62_"
      }
    },
    {
      "cell_type": "code",
      "execution_count": 1,
      "metadata": {
        "colab": {
          "base_uri": "https://localhost:8080/"
        },
        "id": "vWzIYXnbf3Hi",
        "outputId": "d1077178-f9a8-4667-a123-2c2b1b247506"
      },
      "outputs": [
        {
          "output_type": "stream",
          "name": "stdout",
          "text": [
            "[0, 1, 4, 9, 16]\n"
          ]
        }
      ],
      "source": [
        "squres = [x**2 for x in range(5)]\n",
        "print(squres)"
      ]
    },
    {
      "cell_type": "code",
      "source": [],
      "metadata": {
        "id": "096348NQgRXj"
      },
      "execution_count": null,
      "outputs": []
    },
    {
      "cell_type": "markdown",
      "source": [
        "# ise if condition in list comp"
      ],
      "metadata": {
        "id": "xUoIT00bgWEV"
      }
    },
    {
      "cell_type": "code",
      "source": [
        "num = [\"even\" if x%2 == 0  else \"odd\"  for x in range(10)]"
      ],
      "metadata": {
        "id": "fFZR6l06geCT"
      },
      "execution_count": 2,
      "outputs": []
    },
    {
      "cell_type": "code",
      "source": [
        "print(num)"
      ],
      "metadata": {
        "colab": {
          "base_uri": "https://localhost:8080/"
        },
        "id": "to4U2svkgtO3",
        "outputId": "737a2a78-6166-4858-c77c-6c5a7e164f7a"
      },
      "execution_count": 3,
      "outputs": [
        {
          "output_type": "stream",
          "name": "stdout",
          "text": [
            "['even', 'odd', 'even', 'odd', 'even', 'odd', 'even', 'odd', 'even', 'odd']\n"
          ]
        }
      ]
    },
    {
      "cell_type": "code",
      "source": [
        "len(num)"
      ],
      "metadata": {
        "colab": {
          "base_uri": "https://localhost:8080/"
        },
        "id": "RMz9w9wUgvRU",
        "outputId": "cfb9728e-6f87-4cbb-ee2f-85d4d27d9679"
      },
      "execution_count": 5,
      "outputs": [
        {
          "output_type": "execute_result",
          "data": {
            "text/plain": [
              "10"
            ]
          },
          "metadata": {},
          "execution_count": 5
        }
      ]
    },
    {
      "cell_type": "code",
      "source": [
        "pairs = [(x,y) for x in range(5) for y in range(5)]\n",
        "print(pairs)"
      ],
      "metadata": {
        "colab": {
          "base_uri": "https://localhost:8080/"
        },
        "id": "cAyUS4aZg28e",
        "outputId": "f17f2af2-418e-4db6-99cd-d85e4094a9ab"
      },
      "execution_count": 6,
      "outputs": [
        {
          "output_type": "stream",
          "name": "stdout",
          "text": [
            "[(0, 0), (0, 1), (0, 2), (0, 3), (0, 4), (1, 0), (1, 1), (1, 2), (1, 3), (1, 4), (2, 0), (2, 1), (2, 2), (2, 3), (2, 4), (3, 0), (3, 1), (3, 2), (3, 3), (3, 4), (4, 0), (4, 1), (4, 2), (4, 3), (4, 4)]\n"
          ]
        }
      ]
    },
    {
      "cell_type": "code",
      "source": [
        "len(pairs)"
      ],
      "metadata": {
        "colab": {
          "base_uri": "https://localhost:8080/"
        },
        "id": "mJoeKTUdhIjs",
        "outputId": "90c055e6-2775-4f1b-e733-64291a8ce7f1"
      },
      "execution_count": 7,
      "outputs": [
        {
          "output_type": "execute_result",
          "data": {
            "text/plain": [
              "25"
            ]
          },
          "metadata": {},
          "execution_count": 7
        }
      ]
    },
    {
      "cell_type": "code",
      "source": [],
      "metadata": {
        "id": "9AyrQVM6hMuB"
      },
      "execution_count": null,
      "outputs": []
    },
    {
      "cell_type": "markdown",
      "source": [
        "# list compershance with nested list comperhance"
      ],
      "metadata": {
        "id": "kLSCqwGEhWiz"
      }
    },
    {
      "cell_type": "code",
      "source": [
        "matrix = [[1,2] , [2,3]]\n",
        "flat = [matrix for row in matrix for matrix in row]\n",
        "print(flat)"
      ],
      "metadata": {
        "colab": {
          "base_uri": "https://localhost:8080/"
        },
        "id": "xIwukYRihfFO",
        "outputId": "76fb7856-a1b4-423c-b190-5607a3c18b17"
      },
      "execution_count": 12,
      "outputs": [
        {
          "output_type": "stream",
          "name": "stdout",
          "text": [
            "[1, 2, 2, 3]\n"
          ]
        }
      ]
    },
    {
      "cell_type": "code",
      "source": [],
      "metadata": {
        "id": "3JPFZHS2iFNd"
      },
      "execution_count": null,
      "outputs": []
    }
  ]
}